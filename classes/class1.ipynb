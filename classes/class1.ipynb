{
 "cells": [
  {
   "cell_type": "code",
   "execution_count": 7,
   "metadata": {},
   "outputs": [
    {
     "name": "stdout",
     "output_type": "stream",
     "text": [
      "2319304097416\n",
      "<__main__.Employee object at 0x0000021C029E10B8>\n",
      "Ranjith\n",
      "K S\n",
      "100000\n"
     ]
    }
   ],
   "source": [
    "class Employee:\n",
    "    pass\n",
    "\n",
    "print(id(Employee))\n",
    "e1 = Employee()\n",
    "print(e1)\n",
    "e1.fname = \"Ranjith\"\n",
    "e1.lname = \"K S\"\n",
    "e1.pay = 100000\n",
    "\n",
    "print(e1.fname)\n",
    "print(e1.lname)\n",
    "print(e1.pay)\n"
   ]
  }
 ],
 "metadata": {
  "kernelspec": {
   "display_name": "Python 3",
   "language": "python",
   "name": "python3"
  },
  "language_info": {
   "codemirror_mode": {
    "name": "ipython",
    "version": 3
   },
   "file_extension": ".py",
   "mimetype": "text/x-python",
   "name": "python",
   "nbconvert_exporter": "python",
   "pygments_lexer": "ipython3",
   "version": "3.7.3"
  }
 },
 "nbformat": 4,
 "nbformat_minor": 2
}
