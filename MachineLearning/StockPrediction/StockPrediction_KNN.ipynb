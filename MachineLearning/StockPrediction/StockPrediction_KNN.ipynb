{
  "nbformat": 4,
  "nbformat_minor": 0,
  "metadata": {
    "colab": {
      "name": "StockPrediction_KNN.ipynb",
      "provenance": [],
      "collapsed_sections": [],
      "include_colab_link": true
    },
    "kernelspec": {
      "name": "python3",
      "display_name": "Python 3"
    }
  },
  "cells": [
    {
      "cell_type": "markdown",
      "metadata": {
        "id": "view-in-github",
        "colab_type": "text"
      },
      "source": [
        "<a href=\"https://colab.research.google.com/github/ksranjith786/python/blob/master/MachineLearning/StockPrediction/StockPrediction_KNN.ipynb\" target=\"_parent\"><img src=\"https://colab.research.google.com/assets/colab-badge.svg\" alt=\"Open In Colab\"/></a>"
      ]
    },
    {
      "cell_type": "code",
      "metadata": {
        "id": "OgZXTo6ZPV1R",
        "colab_type": "code",
        "colab": {
          "base_uri": "https://localhost:8080/",
          "height": 358
        },
        "outputId": "2b3e8309-5a04-4eae-e7ea-26cf31219bf7"
      },
      "source": [
        "!pip install nsepy --upgrade"
      ],
      "execution_count": 2,
      "outputs": [
        {
          "output_type": "stream",
          "text": [
            "Collecting nsepy\n",
            "  Downloading https://files.pythonhosted.org/packages/23/c2/0d19d7ddb36638568ad4a83ab80b492eccc540ef7b7fa9df9a26536b16a1/nsepy-0.7.tar.gz\n",
            "Requirement already satisfied, skipping upgrade: beautifulsoup4 in /usr/local/lib/python3.6/dist-packages (from nsepy) (4.6.3)\n",
            "Requirement already satisfied, skipping upgrade: requests in /usr/local/lib/python3.6/dist-packages (from nsepy) (2.21.0)\n",
            "Requirement already satisfied, skipping upgrade: numpy in /usr/local/lib/python3.6/dist-packages (from nsepy) (1.17.4)\n",
            "Requirement already satisfied, skipping upgrade: pandas in /usr/local/lib/python3.6/dist-packages (from nsepy) (0.25.3)\n",
            "Requirement already satisfied, skipping upgrade: six in /usr/local/lib/python3.6/dist-packages (from nsepy) (1.12.0)\n",
            "Requirement already satisfied, skipping upgrade: click in /usr/local/lib/python3.6/dist-packages (from nsepy) (7.0)\n",
            "Requirement already satisfied, skipping upgrade: certifi>=2017.4.17 in /usr/local/lib/python3.6/dist-packages (from requests->nsepy) (2019.9.11)\n",
            "Requirement already satisfied, skipping upgrade: urllib3<1.25,>=1.21.1 in /usr/local/lib/python3.6/dist-packages (from requests->nsepy) (1.24.3)\n",
            "Requirement already satisfied, skipping upgrade: chardet<3.1.0,>=3.0.2 in /usr/local/lib/python3.6/dist-packages (from requests->nsepy) (3.0.4)\n",
            "Requirement already satisfied, skipping upgrade: idna<2.9,>=2.5 in /usr/local/lib/python3.6/dist-packages (from requests->nsepy) (2.8)\n",
            "Requirement already satisfied, skipping upgrade: python-dateutil>=2.6.1 in /usr/local/lib/python3.6/dist-packages (from pandas->nsepy) (2.6.1)\n",
            "Requirement already satisfied, skipping upgrade: pytz>=2017.2 in /usr/local/lib/python3.6/dist-packages (from pandas->nsepy) (2018.9)\n",
            "Building wheels for collected packages: nsepy\n",
            "  Building wheel for nsepy (setup.py) ... \u001b[?25l\u001b[?25hdone\n",
            "  Created wheel for nsepy: filename=nsepy-0.7-cp36-none-any.whl size=34388 sha256=863dd2d02fd1dc9482770e7226f4aee678f135b5a1b750883eb2d7145f81668e\n",
            "  Stored in directory: /root/.cache/pip/wheels/88/89/1e/3dfa14f863314a42481d8926d9ef4825da5d899e026435fc3a\n",
            "Successfully built nsepy\n",
            "Installing collected packages: nsepy\n",
            "Successfully installed nsepy-0.7\n"
          ],
          "name": "stdout"
        }
      ]
    },
    {
      "cell_type": "code",
      "metadata": {
        "id": "7Hgk2-VyPqvx",
        "colab_type": "code",
        "colab": {}
      },
      "source": [
        "from nsepy import get_history\n",
        "import datetime"
      ],
      "execution_count": 0,
      "outputs": []
    },
    {
      "cell_type": "code",
      "metadata": {
        "id": "8XJrMTCBe6DZ",
        "colab_type": "code",
        "colab": {}
      },
      "source": [
        "stockHistory = get_history(symbol='HDFC', start=datetime.date(2015,1,1), end=datetime.date.today())"
      ],
      "execution_count": 0,
      "outputs": []
    },
    {
      "cell_type": "code",
      "metadata": {
        "id": "3quM5v6T-SJ6",
        "colab_type": "code",
        "colab": {
          "base_uri": "https://localhost:8080/",
          "height": 420
        },
        "outputId": "f6b16c9e-2cd6-4d0d-d34e-944d85f64bdb"
      },
      "source": [
        "stockHistory"
      ],
      "execution_count": 57,
      "outputs": [
        {
          "output_type": "execute_result",
          "data": {
            "text/html": [
              "<div>\n",
              "<style scoped>\n",
              "    .dataframe tbody tr th:only-of-type {\n",
              "        vertical-align: middle;\n",
              "    }\n",
              "\n",
              "    .dataframe tbody tr th {\n",
              "        vertical-align: top;\n",
              "    }\n",
              "\n",
              "    .dataframe thead th {\n",
              "        text-align: right;\n",
              "    }\n",
              "</style>\n",
              "<table border=\"1\" class=\"dataframe\">\n",
              "  <thead>\n",
              "    <tr style=\"text-align: right;\">\n",
              "      <th></th>\n",
              "      <th>Symbol</th>\n",
              "      <th>Series</th>\n",
              "      <th>Prev Close</th>\n",
              "      <th>Open</th>\n",
              "      <th>High</th>\n",
              "      <th>Low</th>\n",
              "      <th>Last</th>\n",
              "      <th>Close</th>\n",
              "      <th>VWAP</th>\n",
              "      <th>Volume</th>\n",
              "      <th>Turnover</th>\n",
              "      <th>Trades</th>\n",
              "      <th>Deliverable Volume</th>\n",
              "      <th>%Deliverble</th>\n",
              "    </tr>\n",
              "    <tr>\n",
              "      <th>Date</th>\n",
              "      <th></th>\n",
              "      <th></th>\n",
              "      <th></th>\n",
              "      <th></th>\n",
              "      <th></th>\n",
              "      <th></th>\n",
              "      <th></th>\n",
              "      <th></th>\n",
              "      <th></th>\n",
              "      <th></th>\n",
              "      <th></th>\n",
              "      <th></th>\n",
              "      <th></th>\n",
              "      <th></th>\n",
              "    </tr>\n",
              "  </thead>\n",
              "  <tbody>\n",
              "    <tr>\n",
              "      <th>2015-01-01</th>\n",
              "      <td>HDFC</td>\n",
              "      <td>EQ</td>\n",
              "      <td>1135.90</td>\n",
              "      <td>1130.00</td>\n",
              "      <td>1131.15</td>\n",
              "      <td>1120.10</td>\n",
              "      <td>1125.90</td>\n",
              "      <td>1124.00</td>\n",
              "      <td>1124.23</td>\n",
              "      <td>401576</td>\n",
              "      <td>4.514650e+13</td>\n",
              "      <td>11804</td>\n",
              "      <td>128793</td>\n",
              "      <td>0.3207</td>\n",
              "    </tr>\n",
              "    <tr>\n",
              "      <th>2015-01-02</th>\n",
              "      <td>HDFC</td>\n",
              "      <td>EQ</td>\n",
              "      <td>1124.00</td>\n",
              "      <td>1127.30</td>\n",
              "      <td>1176.95</td>\n",
              "      <td>1125.35</td>\n",
              "      <td>1171.05</td>\n",
              "      <td>1171.90</td>\n",
              "      <td>1159.93</td>\n",
              "      <td>2019816</td>\n",
              "      <td>2.342845e+14</td>\n",
              "      <td>59071</td>\n",
              "      <td>1258847</td>\n",
              "      <td>0.6232</td>\n",
              "    </tr>\n",
              "    <tr>\n",
              "      <th>2015-01-05</th>\n",
              "      <td>HDFC</td>\n",
              "      <td>EQ</td>\n",
              "      <td>1171.90</td>\n",
              "      <td>1168.80</td>\n",
              "      <td>1175.00</td>\n",
              "      <td>1150.40</td>\n",
              "      <td>1154.95</td>\n",
              "      <td>1156.40</td>\n",
              "      <td>1159.24</td>\n",
              "      <td>2219458</td>\n",
              "      <td>2.572880e+14</td>\n",
              "      <td>57749</td>\n",
              "      <td>1414720</td>\n",
              "      <td>0.6374</td>\n",
              "    </tr>\n",
              "    <tr>\n",
              "      <th>2015-01-06</th>\n",
              "      <td>HDFC</td>\n",
              "      <td>EQ</td>\n",
              "      <td>1156.40</td>\n",
              "      <td>1148.60</td>\n",
              "      <td>1148.60</td>\n",
              "      <td>1096.10</td>\n",
              "      <td>1098.00</td>\n",
              "      <td>1101.95</td>\n",
              "      <td>1117.84</td>\n",
              "      <td>2531748</td>\n",
              "      <td>2.830100e+14</td>\n",
              "      <td>81436</td>\n",
              "      <td>1547523</td>\n",
              "      <td>0.6112</td>\n",
              "    </tr>\n",
              "    <tr>\n",
              "      <th>2015-01-07</th>\n",
              "      <td>HDFC</td>\n",
              "      <td>EQ</td>\n",
              "      <td>1101.95</td>\n",
              "      <td>1097.50</td>\n",
              "      <td>1114.15</td>\n",
              "      <td>1095.00</td>\n",
              "      <td>1097.65</td>\n",
              "      <td>1099.25</td>\n",
              "      <td>1105.58</td>\n",
              "      <td>2406880</td>\n",
              "      <td>2.660992e+14</td>\n",
              "      <td>133109</td>\n",
              "      <td>1533304</td>\n",
              "      <td>0.6371</td>\n",
              "    </tr>\n",
              "    <tr>\n",
              "      <th>...</th>\n",
              "      <td>...</td>\n",
              "      <td>...</td>\n",
              "      <td>...</td>\n",
              "      <td>...</td>\n",
              "      <td>...</td>\n",
              "      <td>...</td>\n",
              "      <td>...</td>\n",
              "      <td>...</td>\n",
              "      <td>...</td>\n",
              "      <td>...</td>\n",
              "      <td>...</td>\n",
              "      <td>...</td>\n",
              "      <td>...</td>\n",
              "      <td>...</td>\n",
              "    </tr>\n",
              "    <tr>\n",
              "      <th>2019-11-25</th>\n",
              "      <td>HDFC</td>\n",
              "      <td>EQ</td>\n",
              "      <td>2237.30</td>\n",
              "      <td>2244.75</td>\n",
              "      <td>2297.00</td>\n",
              "      <td>2227.40</td>\n",
              "      <td>2294.00</td>\n",
              "      <td>2294.55</td>\n",
              "      <td>2276.50</td>\n",
              "      <td>4535037</td>\n",
              "      <td>1.032400e+15</td>\n",
              "      <td>146311</td>\n",
              "      <td>2645375</td>\n",
              "      <td>0.5833</td>\n",
              "    </tr>\n",
              "    <tr>\n",
              "      <th>2019-11-26</th>\n",
              "      <td>HDFC</td>\n",
              "      <td>EQ</td>\n",
              "      <td>2294.55</td>\n",
              "      <td>2300.00</td>\n",
              "      <td>2320.00</td>\n",
              "      <td>2280.95</td>\n",
              "      <td>2298.80</td>\n",
              "      <td>2304.65</td>\n",
              "      <td>2305.93</td>\n",
              "      <td>8808006</td>\n",
              "      <td>2.031062e+15</td>\n",
              "      <td>169206</td>\n",
              "      <td>6526754</td>\n",
              "      <td>0.7410</td>\n",
              "    </tr>\n",
              "    <tr>\n",
              "      <th>2019-11-27</th>\n",
              "      <td>HDFC</td>\n",
              "      <td>EQ</td>\n",
              "      <td>2304.65</td>\n",
              "      <td>2316.00</td>\n",
              "      <td>2352.00</td>\n",
              "      <td>2308.40</td>\n",
              "      <td>2336.00</td>\n",
              "      <td>2336.30</td>\n",
              "      <td>2331.64</td>\n",
              "      <td>5748946</td>\n",
              "      <td>1.340450e+15</td>\n",
              "      <td>225666</td>\n",
              "      <td>3625097</td>\n",
              "      <td>0.6306</td>\n",
              "    </tr>\n",
              "    <tr>\n",
              "      <th>2019-11-28</th>\n",
              "      <td>HDFC</td>\n",
              "      <td>EQ</td>\n",
              "      <td>2336.30</td>\n",
              "      <td>2339.00</td>\n",
              "      <td>2346.00</td>\n",
              "      <td>2295.00</td>\n",
              "      <td>2307.90</td>\n",
              "      <td>2309.75</td>\n",
              "      <td>2314.53</td>\n",
              "      <td>3668406</td>\n",
              "      <td>8.490628e+14</td>\n",
              "      <td>169400</td>\n",
              "      <td>2223552</td>\n",
              "      <td>0.6061</td>\n",
              "    </tr>\n",
              "    <tr>\n",
              "      <th>2019-11-29</th>\n",
              "      <td>HDFC</td>\n",
              "      <td>EQ</td>\n",
              "      <td>2309.75</td>\n",
              "      <td>2309.75</td>\n",
              "      <td>2316.35</td>\n",
              "      <td>2280.10</td>\n",
              "      <td>2296.00</td>\n",
              "      <td>2297.25</td>\n",
              "      <td>2292.80</td>\n",
              "      <td>3027045</td>\n",
              "      <td>6.940397e+14</td>\n",
              "      <td>165645</td>\n",
              "      <td>2097642</td>\n",
              "      <td>0.6930</td>\n",
              "    </tr>\n",
              "  </tbody>\n",
              "</table>\n",
              "<p>1213 rows × 14 columns</p>\n",
              "</div>"
            ],
            "text/plain": [
              "           Symbol Series  Prev Close  ...  Trades  Deliverable Volume  %Deliverble\n",
              "Date                                  ...                                         \n",
              "2015-01-01   HDFC     EQ     1135.90  ...   11804              128793       0.3207\n",
              "2015-01-02   HDFC     EQ     1124.00  ...   59071             1258847       0.6232\n",
              "2015-01-05   HDFC     EQ     1171.90  ...   57749             1414720       0.6374\n",
              "2015-01-06   HDFC     EQ     1156.40  ...   81436             1547523       0.6112\n",
              "2015-01-07   HDFC     EQ     1101.95  ...  133109             1533304       0.6371\n",
              "...           ...    ...         ...  ...     ...                 ...          ...\n",
              "2019-11-25   HDFC     EQ     2237.30  ...  146311             2645375       0.5833\n",
              "2019-11-26   HDFC     EQ     2294.55  ...  169206             6526754       0.7410\n",
              "2019-11-27   HDFC     EQ     2304.65  ...  225666             3625097       0.6306\n",
              "2019-11-28   HDFC     EQ     2336.30  ...  169400             2223552       0.6061\n",
              "2019-11-29   HDFC     EQ     2309.75  ...  165645             2097642       0.6930\n",
              "\n",
              "[1213 rows x 14 columns]"
            ]
          },
          "metadata": {
            "tags": []
          },
          "execution_count": 57
        }
      ]
    },
    {
      "cell_type": "code",
      "metadata": {
        "id": "b_clt01AfqDo",
        "colab_type": "code",
        "colab": {
          "base_uri": "https://localhost:8080/",
          "height": 298
        },
        "outputId": "f7e6d96c-18fb-4c19-8587-005852dcb48b"
      },
      "source": [
        "stockHistory['Close'].plot()"
      ],
      "execution_count": 13,
      "outputs": [
        {
          "output_type": "execute_result",
          "data": {
            "text/plain": [
              "<matplotlib.axes._subplots.AxesSubplot at 0x7f820856a588>"
            ]
          },
          "metadata": {
            "tags": []
          },
          "execution_count": 13
        },
        {
          "output_type": "display_data",
          "data": {
            "image/png": "[encoded data removed]",
            "text/plain": [
              "<Figure size 432x288 with 1 Axes>"
            ]
          },
          "metadata": {
            "tags": []
          }
        }
      ]
    },
    {
      "cell_type": "code",
      "metadata": {
        "id": "UWsRs7K6gUbP",
        "colab_type": "code",
        "colab": {
          "base_uri": "https://localhost:8080/",
          "height": 33
        },
        "outputId": "b43cb833-2928-4447-9ab6-8ad645232425"
      },
      "source": [
        "stockHistory.shape"
      ],
      "execution_count": 15,
      "outputs": [
        {
          "output_type": "execute_result",
          "data": {
            "text/plain": [
              "(1213, 14)"
            ]
          },
          "metadata": {
            "tags": []
          },
          "execution_count": 15
        }
      ]
    },
    {
      "cell_type": "code",
      "metadata": {
        "id": "FUDOslcbgW_E",
        "colab_type": "code",
        "colab": {
          "base_uri": "https://localhost:8080/",
          "height": 326
        },
        "outputId": "7396c7de-78e5-4f33-c1c7-e1af76881c76"
      },
      "source": [
        "stockHistory.info()"
      ],
      "execution_count": 17,
      "outputs": [
        {
          "output_type": "stream",
          "text": [
            "<class 'pandas.core.frame.DataFrame'>\n",
            "Index: 1213 entries, 2015-01-01 to 2019-11-29\n",
            "Data columns (total 14 columns):\n",
            "Symbol                1213 non-null object\n",
            "Series                1213 non-null object\n",
            "Prev Close            1213 non-null float64\n",
            "Open                  1213 non-null float64\n",
            "High                  1213 non-null float64\n",
            "Low                   1213 non-null float64\n",
            "Last                  1213 non-null float64\n",
            "Close                 1213 non-null float64\n",
            "VWAP                  1213 non-null float64\n",
            "Volume                1213 non-null int64\n",
            "Turnover              1213 non-null float64\n",
            "Trades                1213 non-null int64\n",
            "Deliverable Volume    1213 non-null int64\n",
            "%Deliverble           1213 non-null float64\n",
            "dtypes: float64(9), int64(3), object(2)\n",
            "memory usage: 182.1+ KB\n"
          ],
          "name": "stdout"
        }
      ]
    },
    {
      "cell_type": "code",
      "metadata": {
        "id": "KjmwanVQgYL9",
        "colab_type": "code",
        "colab": {
          "base_uri": "https://localhost:8080/",
          "height": 277
        },
        "outputId": "7ba0f3da-f836-4114-a7e3-6d40a0b20ebc"
      },
      "source": [
        "stockHistory.describe()"
      ],
      "execution_count": 19,
      "outputs": [
        {
          "output_type": "execute_result",
          "data": {
            "text/html": [
              "<div>\n",
              "<style scoped>\n",
              "    .dataframe tbody tr th:only-of-type {\n",
              "        vertical-align: middle;\n",
              "    }\n",
              "\n",
              "    .dataframe tbody tr th {\n",
              "        vertical-align: top;\n",
              "    }\n",
              "\n",
              "    .dataframe thead th {\n",
              "        text-align: right;\n",
              "    }\n",
              "</style>\n",
              "<table border=\"1\" class=\"dataframe\">\n",
              "  <thead>\n",
              "    <tr style=\"text-align: right;\">\n",
              "      <th></th>\n",
              "      <th>Prev Close</th>\n",
              "      <th>Open</th>\n",
              "      <th>High</th>\n",
              "      <th>Low</th>\n",
              "      <th>Last</th>\n",
              "      <th>Close</th>\n",
              "      <th>VWAP</th>\n",
              "      <th>Volume</th>\n",
              "      <th>Turnover</th>\n",
              "      <th>Trades</th>\n",
              "      <th>Deliverable Volume</th>\n",
              "      <th>%Deliverble</th>\n",
              "    </tr>\n",
              "  </thead>\n",
              "  <tbody>\n",
              "    <tr>\n",
              "      <th>count</th>\n",
              "      <td>1213.000000</td>\n",
              "      <td>1213.000000</td>\n",
              "      <td>1213.000000</td>\n",
              "      <td>1213.000000</td>\n",
              "      <td>1213.000000</td>\n",
              "      <td>1213.000000</td>\n",
              "      <td>1213.000000</td>\n",
              "      <td>1.213000e+03</td>\n",
              "      <td>1.213000e+03</td>\n",
              "      <td>1213.000000</td>\n",
              "      <td>1.213000e+03</td>\n",
              "      <td>1213.000000</td>\n",
              "    </tr>\n",
              "    <tr>\n",
              "      <th>mean</th>\n",
              "      <td>1593.797115</td>\n",
              "      <td>1595.710181</td>\n",
              "      <td>1611.231822</td>\n",
              "      <td>1577.570610</td>\n",
              "      <td>1594.426917</td>\n",
              "      <td>1594.754534</td>\n",
              "      <td>1594.099588</td>\n",
              "      <td>2.881056e+06</td>\n",
              "      <td>4.657436e+14</td>\n",
              "      <td>106729.929101</td>\n",
              "      <td>1.986793e+06</td>\n",
              "      <td>0.684474</td>\n",
              "    </tr>\n",
              "    <tr>\n",
              "      <th>std</th>\n",
              "      <td>342.510508</td>\n",
              "      <td>343.199881</td>\n",
              "      <td>344.925184</td>\n",
              "      <td>340.245187</td>\n",
              "      <td>342.804579</td>\n",
              "      <td>342.852482</td>\n",
              "      <td>342.708626</td>\n",
              "      <td>1.448041e+06</td>\n",
              "      <td>2.812311e+14</td>\n",
              "      <td>44238.239650</td>\n",
              "      <td>1.045554e+06</td>\n",
              "      <td>0.088164</td>\n",
              "    </tr>\n",
              "    <tr>\n",
              "      <th>min</th>\n",
              "      <td>1022.100000</td>\n",
              "      <td>1022.000000</td>\n",
              "      <td>1049.500000</td>\n",
              "      <td>1011.450000</td>\n",
              "      <td>1023.050000</td>\n",
              "      <td>1022.100000</td>\n",
              "      <td>1032.000000</td>\n",
              "      <td>1.102050e+05</td>\n",
              "      <td>1.522000e+13</td>\n",
              "      <td>3479.000000</td>\n",
              "      <td>3.758300e+04</td>\n",
              "      <td>0.287700</td>\n",
              "    </tr>\n",
              "    <tr>\n",
              "      <th>25%</th>\n",
              "      <td>1263.750000</td>\n",
              "      <td>1262.500000</td>\n",
              "      <td>1279.000000</td>\n",
              "      <td>1248.700000</td>\n",
              "      <td>1264.000000</td>\n",
              "      <td>1264.300000</td>\n",
              "      <td>1262.840000</td>\n",
              "      <td>1.947101e+06</td>\n",
              "      <td>2.900423e+14</td>\n",
              "      <td>75412.000000</td>\n",
              "      <td>1.275280e+06</td>\n",
              "      <td>0.637600</td>\n",
              "    </tr>\n",
              "    <tr>\n",
              "      <th>50%</th>\n",
              "      <td>1629.000000</td>\n",
              "      <td>1626.100000</td>\n",
              "      <td>1640.000000</td>\n",
              "      <td>1616.400000</td>\n",
              "      <td>1627.400000</td>\n",
              "      <td>1629.100000</td>\n",
              "      <td>1627.520000</td>\n",
              "      <td>2.585069e+06</td>\n",
              "      <td>3.998328e+14</td>\n",
              "      <td>99404.000000</td>\n",
              "      <td>1.768420e+06</td>\n",
              "      <td>0.692900</td>\n",
              "    </tr>\n",
              "    <tr>\n",
              "      <th>75%</th>\n",
              "      <td>1893.800000</td>\n",
              "      <td>1894.750000</td>\n",
              "      <td>1912.500000</td>\n",
              "      <td>1872.800000</td>\n",
              "      <td>1894.000000</td>\n",
              "      <td>1894.300000</td>\n",
              "      <td>1891.810000</td>\n",
              "      <td>3.451819e+06</td>\n",
              "      <td>5.700402e+14</td>\n",
              "      <td>131817.000000</td>\n",
              "      <td>2.408987e+06</td>\n",
              "      <td>0.745300</td>\n",
              "    </tr>\n",
              "    <tr>\n",
              "      <th>max</th>\n",
              "      <td>2345.150000</td>\n",
              "      <td>2339.000000</td>\n",
              "      <td>2357.850000</td>\n",
              "      <td>2308.400000</td>\n",
              "      <td>2338.000000</td>\n",
              "      <td>2345.150000</td>\n",
              "      <td>2332.670000</td>\n",
              "      <td>1.820364e+07</td>\n",
              "      <td>3.710496e+15</td>\n",
              "      <td>319341.000000</td>\n",
              "      <td>1.188380e+07</td>\n",
              "      <td>0.922600</td>\n",
              "    </tr>\n",
              "  </tbody>\n",
              "</table>\n",
              "</div>"
            ],
            "text/plain": [
              "        Prev Close         Open  ...  Deliverable Volume  %Deliverble\n",
              "count  1213.000000  1213.000000  ...        1.213000e+03  1213.000000\n",
              "mean   1593.797115  1595.710181  ...        1.986793e+06     0.684474\n",
              "std     342.510508   343.199881  ...        1.045554e+06     0.088164\n",
              "min    1022.100000  1022.000000  ...        3.758300e+04     0.287700\n",
              "25%    1263.750000  1262.500000  ...        1.275280e+06     0.637600\n",
              "50%    1629.000000  1626.100000  ...        1.768420e+06     0.692900\n",
              "75%    1893.800000  1894.750000  ...        2.408987e+06     0.745300\n",
              "max    2345.150000  2339.000000  ...        1.188380e+07     0.922600\n",
              "\n",
              "[8 rows x 12 columns]"
            ]
          },
          "metadata": {
            "tags": []
          },
          "execution_count": 19
        }
      ]
    },
    {
      "cell_type": "code",
      "metadata": {
        "id": "YDnIjLi8gnFA",
        "colab_type": "code",
        "colab": {}
      },
      "source": [
        "from sklearn.model_selection import train_test_split\n",
        "from sklearn.neighbors import KNeighborsRegressor\n",
        "from sklearn import metrics"
      ],
      "execution_count": 0,
      "outputs": []
    },
    {
      "cell_type": "code",
      "metadata": {
        "id": "MnKKkrurhtFB",
        "colab_type": "code",
        "colab": {}
      },
      "source": [
        "#InputList = ['Open', 'Low', 'High', 'Volume', 'Trades', 'Deliverable Volume', '%Deliverble']\n",
        "InputList = ['Open', 'Low', 'High']\n",
        "X = stockHistory[InputList]\n",
        "y = stockHistory['Close']\n",
        "X_train, X_test, y_train, y_test = train_test_split(X, y, random_state=4)"
      ],
      "execution_count": 0,
      "outputs": []
    },
    {
      "cell_type": "code",
      "metadata": {
        "id": "efIjjWy1jc5N",
        "colab_type": "code",
        "colab": {
          "base_uri": "https://localhost:8080/",
          "height": 927
        },
        "outputId": "e59fa26e-f8ab-401a-cf49-b68e4cd6aed6"
      },
      "source": [
        "print(X_train)\n",
        "print(X_test)\n",
        "print(y_train)\n",
        "print(y_test)"
      ],
      "execution_count": 47,
      "outputs": [
        {
          "output_type": "stream",
          "text": [
            "               Open      Low     High  ...  Trades  Deliverable Volume  %Deliverble\n",
            "Date                                   ...                                         \n",
            "2019-09-03  2141.00  2083.00  2144.70  ...  162095             2517078       0.6278\n",
            "2017-02-10  1408.00  1382.80  1410.00  ...   56809             1192367       0.7281\n",
            "2018-10-03  1804.80  1785.65  1819.45  ...  144249             2754649       0.7233\n",
            "2015-11-26  1222.00  1216.00  1231.95  ...  104856             1535838       0.6781\n",
            "2019-11-06  2188.00  2162.00  2228.00  ...  170971             2157528       0.5106\n",
            "...             ...      ...      ...  ...     ...                 ...          ...\n",
            "2016-06-16  1198.00  1182.15  1205.80  ...  108127             1063519       0.5777\n",
            "2017-11-13  1700.10  1666.40  1705.00  ...   95839             3004332       0.7832\n",
            "2016-10-13  1385.00  1335.05  1400.00  ...  173013             2417828       0.7477\n",
            "2015-09-10  1167.55  1149.50  1174.90  ...   71409             1323385       0.6489\n",
            "2019-08-21  2096.00  2062.95  2099.95  ...   92228             1159692       0.5533\n",
            "\n",
            "[909 rows x 7 columns]\n",
            "               Open      Low     High  ...  Trades  Deliverable Volume  %Deliverble\n",
            "Date                                   ...                                         \n",
            "2018-10-08  1695.80  1646.55  1708.55  ...  257778             3217706       0.6514\n",
            "2017-10-23  1751.80  1713.00  1751.80  ...  166259             2053240       0.7297\n",
            "2019-04-25  1987.55  1946.55  1998.80  ...  136733             2807343       0.6744\n",
            "2015-04-24  1271.00  1234.10  1275.00  ...   54476             1042532       0.6155\n",
            "2017-10-11  1750.00  1741.95  1763.40  ...   53541              862293       0.6891\n",
            "...             ...      ...      ...  ...     ...                 ...          ...\n",
            "2016-11-04  1408.00  1377.55  1408.00  ...  115950             1263627       0.6950\n",
            "2019-10-01  1988.00  1962.95  2028.95  ...  306394             5683419       0.6000\n",
            "2016-07-29  1407.95  1373.00  1407.95  ...  104810             2659310       0.7945\n",
            "2018-08-30  1950.00  1928.25  1964.45  ...   89377             1871394       0.7587\n",
            "2015-11-13  1178.65  1157.55  1181.25  ...  102488             1269627       0.6708\n",
            "\n",
            "[304 rows x 7 columns]\n",
            "Date\n",
            "2019-09-03    2089.90\n",
            "2017-02-10    1388.55\n",
            "2018-10-03    1797.55\n",
            "2015-11-26    1222.65\n",
            "2019-11-06    2220.60\n",
            "               ...   \n",
            "2016-06-16    1200.95\n",
            "2017-11-13    1670.30\n",
            "2016-10-13    1338.90\n",
            "2015-09-10    1162.75\n",
            "2019-08-21    2066.90\n",
            "Name: Close, Length: 909, dtype: float64\n",
            "Date\n",
            "2018-10-08    1667.70\n",
            "2017-10-23    1722.40\n",
            "2019-04-25    1955.15\n",
            "2015-04-24    1245.15\n",
            "2017-10-11    1750.75\n",
            "               ...   \n",
            "2016-11-04    1386.15\n",
            "2019-10-01    1995.65\n",
            "2016-07-29    1374.50\n",
            "2018-08-30    1934.15\n",
            "2015-11-13    1178.75\n",
            "Name: Close, Length: 304, dtype: float64\n"
          ],
          "name": "stdout"
        }
      ]
    },
    {
      "cell_type": "code",
      "metadata": {
        "id": "GSDHH7TmjxAI",
        "colab_type": "code",
        "colab": {
          "base_uri": "https://localhost:8080/",
          "height": 66
        },
        "outputId": "c779bcba-e84e-4cb7-bba7-f18e29e79709"
      },
      "source": [
        "model = KNeighborsRegressor(n_neighbors=5)\n",
        "model.fit(X_train, y_train)"
      ],
      "execution_count": 53,
      "outputs": [
        {
          "output_type": "execute_result",
          "data": {
            "text/plain": [
              "KNeighborsRegressor(algorithm='auto', leaf_size=30, metric='minkowski',\n",
              "                    metric_params=None, n_jobs=None, n_neighbors=5, p=2,\n",
              "                    weights='uniform')"
            ]
          },
          "metadata": {
            "tags": []
          },
          "execution_count": 53
        }
      ]
    },
    {
      "cell_type": "code",
      "metadata": {
        "id": "pRdAbmhikKxP",
        "colab_type": "code",
        "colab": {}
      },
      "source": [
        "y_pred = model.predict(X_test)"
      ],
      "execution_count": 0,
      "outputs": []
    },
    {
      "cell_type": "code",
      "metadata": {
        "id": "WiUYPyBKkQIR",
        "colab_type": "code",
        "colab": {}
      },
      "source": [
        "import pandas as pd\n"
      ],
      "execution_count": 0,
      "outputs": []
    },
    {
      "cell_type": "code",
      "metadata": {
        "id": "Wdj0qQvnk36A",
        "colab_type": "code",
        "colab": {
          "base_uri": "https://localhost:8080/",
          "height": 420
        },
        "outputId": "c3a4c2f2-2517-41ef-e146-f245ff3347cf"
      },
      "source": [
        "df = pd.DataFrame(y_test)\n",
        "df['Pred'] = y_pred\n",
        "df['Error'] = df['Close'] - df['Pred']\n",
        "df['Squared Error'] = df['Error'] ** 2\n",
        "meanError = df['Error'].mean()\n",
        "df['RMS Error'] = (df['Squared Error'] - meanError) ** 0.5\n",
        "\n",
        "df"
      ],
      "execution_count": 90,
      "outputs": [
        {
          "output_type": "execute_result",
          "data": {
            "text/html": [
              "<div>\n",
              "<style scoped>\n",
              "    .dataframe tbody tr th:only-of-type {\n",
              "        vertical-align: middle;\n",
              "    }\n",
              "\n",
              "    .dataframe tbody tr th {\n",
              "        vertical-align: top;\n",
              "    }\n",
              "\n",
              "    .dataframe thead th {\n",
              "        text-align: right;\n",
              "    }\n",
              "</style>\n",
              "<table border=\"1\" class=\"dataframe\">\n",
              "  <thead>\n",
              "    <tr style=\"text-align: right;\">\n",
              "      <th></th>\n",
              "      <th>Close</th>\n",
              "      <th>Pred</th>\n",
              "      <th>Error</th>\n",
              "      <th>Squared Error</th>\n",
              "      <th>RMS Error</th>\n",
              "    </tr>\n",
              "    <tr>\n",
              "      <th>Date</th>\n",
              "      <th></th>\n",
              "      <th></th>\n",
              "      <th></th>\n",
              "      <th></th>\n",
              "      <th></th>\n",
              "    </tr>\n",
              "  </thead>\n",
              "  <tbody>\n",
              "    <tr>\n",
              "      <th>2018-10-08</th>\n",
              "      <td>1667.70</td>\n",
              "      <td>1675.02</td>\n",
              "      <td>-7.32</td>\n",
              "      <td>53.5824</td>\n",
              "      <td>7.365804</td>\n",
              "    </tr>\n",
              "    <tr>\n",
              "      <th>2017-10-23</th>\n",
              "      <td>1722.40</td>\n",
              "      <td>1733.18</td>\n",
              "      <td>-10.78</td>\n",
              "      <td>116.2084</td>\n",
              "      <td>10.811155</td>\n",
              "    </tr>\n",
              "    <tr>\n",
              "      <th>2019-04-25</th>\n",
              "      <td>1955.15</td>\n",
              "      <td>1971.43</td>\n",
              "      <td>-16.28</td>\n",
              "      <td>265.0384</td>\n",
              "      <td>16.300646</td>\n",
              "    </tr>\n",
              "    <tr>\n",
              "      <th>2015-04-24</th>\n",
              "      <td>1245.15</td>\n",
              "      <td>1251.93</td>\n",
              "      <td>-6.78</td>\n",
              "      <td>45.9684</td>\n",
              "      <td>6.829426</td>\n",
              "    </tr>\n",
              "    <tr>\n",
              "      <th>2017-10-11</th>\n",
              "      <td>1750.75</td>\n",
              "      <td>1762.23</td>\n",
              "      <td>-11.48</td>\n",
              "      <td>131.7904</td>\n",
              "      <td>11.509260</td>\n",
              "    </tr>\n",
              "    <tr>\n",
              "      <th>...</th>\n",
              "      <td>...</td>\n",
              "      <td>...</td>\n",
              "      <td>...</td>\n",
              "      <td>...</td>\n",
              "      <td>...</td>\n",
              "    </tr>\n",
              "    <tr>\n",
              "      <th>2016-11-04</th>\n",
              "      <td>1386.15</td>\n",
              "      <td>1393.62</td>\n",
              "      <td>-7.47</td>\n",
              "      <td>55.8009</td>\n",
              "      <td>7.514890</td>\n",
              "    </tr>\n",
              "    <tr>\n",
              "      <th>2019-10-01</th>\n",
              "      <td>1995.65</td>\n",
              "      <td>1989.55</td>\n",
              "      <td>6.10</td>\n",
              "      <td>37.2100</td>\n",
              "      <td>6.154889</td>\n",
              "    </tr>\n",
              "    <tr>\n",
              "      <th>2016-07-29</th>\n",
              "      <td>1374.50</td>\n",
              "      <td>1391.61</td>\n",
              "      <td>-17.11</td>\n",
              "      <td>292.7521</td>\n",
              "      <td>17.129646</td>\n",
              "    </tr>\n",
              "    <tr>\n",
              "      <th>2018-08-30</th>\n",
              "      <td>1934.15</td>\n",
              "      <td>1944.33</td>\n",
              "      <td>-10.18</td>\n",
              "      <td>103.6324</td>\n",
              "      <td>10.212985</td>\n",
              "    </tr>\n",
              "    <tr>\n",
              "      <th>2015-11-13</th>\n",
              "      <td>1178.75</td>\n",
              "      <td>1172.88</td>\n",
              "      <td>5.87</td>\n",
              "      <td>34.4569</td>\n",
              "      <td>5.927020</td>\n",
              "    </tr>\n",
              "  </tbody>\n",
              "</table>\n",
              "<p>304 rows × 5 columns</p>\n",
              "</div>"
            ],
            "text/plain": [
              "              Close     Pred  Error  Squared Error  RMS Error\n",
              "Date                                                         \n",
              "2018-10-08  1667.70  1675.02  -7.32        53.5824   7.365804\n",
              "2017-10-23  1722.40  1733.18 -10.78       116.2084  10.811155\n",
              "2019-04-25  1955.15  1971.43 -16.28       265.0384  16.300646\n",
              "2015-04-24  1245.15  1251.93  -6.78        45.9684   6.829426\n",
              "2017-10-11  1750.75  1762.23 -11.48       131.7904  11.509260\n",
              "...             ...      ...    ...            ...        ...\n",
              "2016-11-04  1386.15  1393.62  -7.47        55.8009   7.514890\n",
              "2019-10-01  1995.65  1989.55   6.10        37.2100   6.154889\n",
              "2016-07-29  1374.50  1391.61 -17.11       292.7521  17.129646\n",
              "2018-08-30  1934.15  1944.33 -10.18       103.6324  10.212985\n",
              "2015-11-13  1178.75  1172.88   5.87        34.4569   5.927020\n",
              "\n",
              "[304 rows x 5 columns]"
            ]
          },
          "metadata": {
            "tags": []
          },
          "execution_count": 90
        }
      ]
    },
    {
      "cell_type": "code",
      "metadata": {
        "id": "uzsTVuxj-E_w",
        "colab_type": "code",
        "colab": {}
      },
      "source": [
        ""
      ],
      "execution_count": 0,
      "outputs": []
    },
    {
      "cell_type": "code",
      "metadata": {
        "id": "ThC_g9Xl-p9q",
        "colab_type": "code",
        "colab": {}
      },
      "source": [
        "from sklearn.preprocessing import StandardScaler"
      ],
      "execution_count": 0,
      "outputs": []
    },
    {
      "cell_type": "code",
      "metadata": {
        "id": "G42lENst-qAu",
        "colab_type": "code",
        "colab": {
          "base_uri": "https://localhost:8080/",
          "height": 82
        },
        "outputId": "7f117aa7-9e24-4b5b-a9b0-27ab520028b7"
      },
      "source": [
        "stockHistoryCopy = stockHistory.copy()\n",
        "stockHistoryCopy.columns"
      ],
      "execution_count": 70,
      "outputs": [
        {
          "output_type": "execute_result",
          "data": {
            "text/plain": [
              "Index(['Symbol', 'Series', 'Prev Close', 'Open', 'High', 'Low', 'Last',\n",
              "       'Close', 'VWAP', 'Volume', 'Turnover', 'Trades', 'Deliverable Volume',\n",
              "       '%Deliverble'],\n",
              "      dtype='object')"
            ]
          },
          "metadata": {
            "tags": []
          },
          "execution_count": 70
        }
      ]
    },
    {
      "cell_type": "code",
      "metadata": {
        "id": "iFomRKW9_Kbs",
        "colab_type": "code",
        "colab": {
          "base_uri": "https://localhost:8080/",
          "height": 220
        },
        "outputId": "6e7760b3-f6fb-4cac-f145-c333e31087d5"
      },
      "source": [
        "stockHistoryCopy.head()"
      ],
      "execution_count": 71,
      "outputs": [
        {
          "output_type": "execute_result",
          "data": {
            "text/html": [
              "<div>\n",
              "<style scoped>\n",
              "    .dataframe tbody tr th:only-of-type {\n",
              "        vertical-align: middle;\n",
              "    }\n",
              "\n",
              "    .dataframe tbody tr th {\n",
              "        vertical-align: top;\n",
              "    }\n",
              "\n",
              "    .dataframe thead th {\n",
              "        text-align: right;\n",
              "    }\n",
              "</style>\n",
              "<table border=\"1\" class=\"dataframe\">\n",
              "  <thead>\n",
              "    <tr style=\"text-align: right;\">\n",
              "      <th></th>\n",
              "      <th>Symbol</th>\n",
              "      <th>Series</th>\n",
              "      <th>Prev Close</th>\n",
              "      <th>Open</th>\n",
              "      <th>High</th>\n",
              "      <th>Low</th>\n",
              "      <th>Last</th>\n",
              "      <th>Close</th>\n",
              "      <th>VWAP</th>\n",
              "      <th>Volume</th>\n",
              "      <th>Turnover</th>\n",
              "      <th>Trades</th>\n",
              "      <th>Deliverable Volume</th>\n",
              "      <th>%Deliverble</th>\n",
              "    </tr>\n",
              "    <tr>\n",
              "      <th>Date</th>\n",
              "      <th></th>\n",
              "      <th></th>\n",
              "      <th></th>\n",
              "      <th></th>\n",
              "      <th></th>\n",
              "      <th></th>\n",
              "      <th></th>\n",
              "      <th></th>\n",
              "      <th></th>\n",
              "      <th></th>\n",
              "      <th></th>\n",
              "      <th></th>\n",
              "      <th></th>\n",
              "      <th></th>\n",
              "    </tr>\n",
              "  </thead>\n",
              "  <tbody>\n",
              "    <tr>\n",
              "      <th>2015-01-01</th>\n",
              "      <td>HDFC</td>\n",
              "      <td>EQ</td>\n",
              "      <td>1135.90</td>\n",
              "      <td>1130.0</td>\n",
              "      <td>1131.15</td>\n",
              "      <td>1120.10</td>\n",
              "      <td>1125.90</td>\n",
              "      <td>1124.00</td>\n",
              "      <td>1124.23</td>\n",
              "      <td>401576</td>\n",
              "      <td>4.514650e+13</td>\n",
              "      <td>11804</td>\n",
              "      <td>128793</td>\n",
              "      <td>0.3207</td>\n",
              "    </tr>\n",
              "    <tr>\n",
              "      <th>2015-01-02</th>\n",
              "      <td>HDFC</td>\n",
              "      <td>EQ</td>\n",
              "      <td>1124.00</td>\n",
              "      <td>1127.3</td>\n",
              "      <td>1176.95</td>\n",
              "      <td>1125.35</td>\n",
              "      <td>1171.05</td>\n",
              "      <td>1171.90</td>\n",
              "      <td>1159.93</td>\n",
              "      <td>2019816</td>\n",
              "      <td>2.342845e+14</td>\n",
              "      <td>59071</td>\n",
              "      <td>1258847</td>\n",
              "      <td>0.6232</td>\n",
              "    </tr>\n",
              "    <tr>\n",
              "      <th>2015-01-05</th>\n",
              "      <td>HDFC</td>\n",
              "      <td>EQ</td>\n",
              "      <td>1171.90</td>\n",
              "      <td>1168.8</td>\n",
              "      <td>1175.00</td>\n",
              "      <td>1150.40</td>\n",
              "      <td>1154.95</td>\n",
              "      <td>1156.40</td>\n",
              "      <td>1159.24</td>\n",
              "      <td>2219458</td>\n",
              "      <td>2.572880e+14</td>\n",
              "      <td>57749</td>\n",
              "      <td>1414720</td>\n",
              "      <td>0.6374</td>\n",
              "    </tr>\n",
              "    <tr>\n",
              "      <th>2015-01-06</th>\n",
              "      <td>HDFC</td>\n",
              "      <td>EQ</td>\n",
              "      <td>1156.40</td>\n",
              "      <td>1148.6</td>\n",
              "      <td>1148.60</td>\n",
              "      <td>1096.10</td>\n",
              "      <td>1098.00</td>\n",
              "      <td>1101.95</td>\n",
              "      <td>1117.84</td>\n",
              "      <td>2531748</td>\n",
              "      <td>2.830100e+14</td>\n",
              "      <td>81436</td>\n",
              "      <td>1547523</td>\n",
              "      <td>0.6112</td>\n",
              "    </tr>\n",
              "    <tr>\n",
              "      <th>2015-01-07</th>\n",
              "      <td>HDFC</td>\n",
              "      <td>EQ</td>\n",
              "      <td>1101.95</td>\n",
              "      <td>1097.5</td>\n",
              "      <td>1114.15</td>\n",
              "      <td>1095.00</td>\n",
              "      <td>1097.65</td>\n",
              "      <td>1099.25</td>\n",
              "      <td>1105.58</td>\n",
              "      <td>2406880</td>\n",
              "      <td>2.660992e+14</td>\n",
              "      <td>133109</td>\n",
              "      <td>1533304</td>\n",
              "      <td>0.6371</td>\n",
              "    </tr>\n",
              "  </tbody>\n",
              "</table>\n",
              "</div>"
            ],
            "text/plain": [
              "           Symbol Series  Prev Close  ...  Trades  Deliverable Volume  %Deliverble\n",
              "Date                                  ...                                         \n",
              "2015-01-01   HDFC     EQ     1135.90  ...   11804              128793       0.3207\n",
              "2015-01-02   HDFC     EQ     1124.00  ...   59071             1258847       0.6232\n",
              "2015-01-05   HDFC     EQ     1171.90  ...   57749             1414720       0.6374\n",
              "2015-01-06   HDFC     EQ     1156.40  ...   81436             1547523       0.6112\n",
              "2015-01-07   HDFC     EQ     1101.95  ...  133109             1533304       0.6371\n",
              "\n",
              "[5 rows x 14 columns]"
            ]
          },
          "metadata": {
            "tags": []
          },
          "execution_count": 71
        }
      ]
    },
    {
      "cell_type": "code",
      "metadata": {
        "id": "Mc2a3i1M-59S",
        "colab_type": "code",
        "colab": {}
      },
      "source": [
        "stockHistoryCopy.drop(labels=['Symbol', 'Series'], axis=1, inplace=True)"
      ],
      "execution_count": 0,
      "outputs": []
    },
    {
      "cell_type": "code",
      "metadata": {
        "id": "-pzNakzu-qDe",
        "colab_type": "code",
        "colab": {
          "base_uri": "https://localhost:8080/",
          "height": 33
        },
        "outputId": "c431db84-e2db-4989-eb21-003cb92a8dbb"
      },
      "source": [
        "ss = StandardScaler()\n",
        "print(ss.fit(stockHistoryCopy))"
      ],
      "execution_count": 73,
      "outputs": [
        {
          "output_type": "stream",
          "text": [
            "StandardScaler(copy=True, with_mean=True, with_std=True)\n"
          ],
          "name": "stdout"
        }
      ]
    },
    {
      "cell_type": "code",
      "metadata": {
        "id": "1gt0Nmjj-qF6",
        "colab_type": "code",
        "colab": {}
      },
      "source": [
        "sht = ss.transform(stockHistoryCopy)"
      ],
      "execution_count": 0,
      "outputs": []
    },
    {
      "cell_type": "code",
      "metadata": {
        "id": "mzZQqTUL-qIu",
        "colab_type": "code",
        "colab": {
          "base_uri": "https://localhost:8080/",
          "height": 391
        },
        "outputId": "3a09eeba-aff3-412e-a259-85165273a1d0"
      },
      "source": [
        "stockHistorySS = pd.DataFrame(sht, columns=['Prev Close', 'Open', 'High', 'Low', 'Last', 'Close', 'VWAP', 'Volume', 'Turnover', 'Trades', 'Deliverable Volume', '%Deliverble'])\n",
        "stockHistorySS"
      ],
      "execution_count": 79,
      "outputs": [
        {
          "output_type": "execute_result",
          "data": {
            "text/html": [
              "<div>\n",
              "<style scoped>\n",
              "    .dataframe tbody tr th:only-of-type {\n",
              "        vertical-align: middle;\n",
              "    }\n",
              "\n",
              "    .dataframe tbody tr th {\n",
              "        vertical-align: top;\n",
              "    }\n",
              "\n",
              "    .dataframe thead th {\n",
              "        text-align: right;\n",
              "    }\n",
              "</style>\n",
              "<table border=\"1\" class=\"dataframe\">\n",
              "  <thead>\n",
              "    <tr style=\"text-align: right;\">\n",
              "      <th></th>\n",
              "      <th>Prev Close</th>\n",
              "      <th>Open</th>\n",
              "      <th>High</th>\n",
              "      <th>Low</th>\n",
              "      <th>Last</th>\n",
              "      <th>Close</th>\n",
              "      <th>VWAP</th>\n",
              "      <th>Volume</th>\n",
              "      <th>Turnover</th>\n",
              "      <th>Trades</th>\n",
              "      <th>Deliverable Volume</th>\n",
              "      <th>%Deliverble</th>\n",
              "    </tr>\n",
              "  </thead>\n",
              "  <tbody>\n",
              "    <tr>\n",
              "      <th>0</th>\n",
              "      <td>-1.337436</td>\n",
              "      <td>-1.357525</td>\n",
              "      <td>-1.392417</td>\n",
              "      <td>-1.345087</td>\n",
              "      <td>-1.367310</td>\n",
              "      <td>-1.373619</td>\n",
              "      <td>-1.371612</td>\n",
              "      <td>-1.713006</td>\n",
              "      <td>-1.496174</td>\n",
              "      <td>-2.146674</td>\n",
              "      <td>-1.777781</td>\n",
              "      <td>-4.127805</td>\n",
              "    </tr>\n",
              "    <tr>\n",
              "      <th>1</th>\n",
              "      <td>-1.372194</td>\n",
              "      <td>-1.365395</td>\n",
              "      <td>-1.259580</td>\n",
              "      <td>-1.329650</td>\n",
              "      <td>-1.235548</td>\n",
              "      <td>-1.233851</td>\n",
              "      <td>-1.267399</td>\n",
              "      <td>-0.595008</td>\n",
              "      <td>-0.823361</td>\n",
              "      <td>-1.077769</td>\n",
              "      <td>-0.696517</td>\n",
              "      <td>-0.695283</td>\n",
              "    </tr>\n",
              "    <tr>\n",
              "      <th>2</th>\n",
              "      <td>-1.232287</td>\n",
              "      <td>-1.244424</td>\n",
              "      <td>-1.265236</td>\n",
              "      <td>-1.255997</td>\n",
              "      <td>-1.282533</td>\n",
              "      <td>-1.279079</td>\n",
              "      <td>-1.269413</td>\n",
              "      <td>-0.457080</td>\n",
              "      <td>-0.741531</td>\n",
              "      <td>-1.107665</td>\n",
              "      <td>-0.547374</td>\n",
              "      <td>-0.534153</td>\n",
              "    </tr>\n",
              "    <tr>\n",
              "      <th>3</th>\n",
              "      <td>-1.277559</td>\n",
              "      <td>-1.303306</td>\n",
              "      <td>-1.341806</td>\n",
              "      <td>-1.415653</td>\n",
              "      <td>-1.448731</td>\n",
              "      <td>-1.437959</td>\n",
              "      <td>-1.390266</td>\n",
              "      <td>-0.241328</td>\n",
              "      <td>-0.650032</td>\n",
              "      <td>-0.572002</td>\n",
              "      <td>-0.420304</td>\n",
              "      <td>-0.831449</td>\n",
              "    </tr>\n",
              "    <tr>\n",
              "      <th>4</th>\n",
              "      <td>-1.436598</td>\n",
              "      <td>-1.452261</td>\n",
              "      <td>-1.441724</td>\n",
              "      <td>-1.418888</td>\n",
              "      <td>-1.449753</td>\n",
              "      <td>-1.445837</td>\n",
              "      <td>-1.426054</td>\n",
              "      <td>-0.327596</td>\n",
              "      <td>-0.710187</td>\n",
              "      <td>0.596542</td>\n",
              "      <td>-0.433909</td>\n",
              "      <td>-0.537557</td>\n",
              "    </tr>\n",
              "    <tr>\n",
              "      <th>...</th>\n",
              "      <td>...</td>\n",
              "      <td>...</td>\n",
              "      <td>...</td>\n",
              "      <td>...</td>\n",
              "      <td>...</td>\n",
              "      <td>...</td>\n",
              "      <td>...</td>\n",
              "      <td>...</td>\n",
              "      <td>...</td>\n",
              "      <td>...</td>\n",
              "      <td>...</td>\n",
              "      <td>...</td>\n",
              "    </tr>\n",
              "    <tr>\n",
              "      <th>1208</th>\n",
              "      <td>1.879558</td>\n",
              "      <td>1.891922</td>\n",
              "      <td>1.988985</td>\n",
              "      <td>1.910673</td>\n",
              "      <td>2.041576</td>\n",
              "      <td>2.041940</td>\n",
              "      <td>1.992018</td>\n",
              "      <td>1.142691</td>\n",
              "      <td>2.015745</td>\n",
              "      <td>0.895094</td>\n",
              "      <td>0.630148</td>\n",
              "      <td>-1.148035</td>\n",
              "    </tr>\n",
              "    <tr>\n",
              "      <th>1209</th>\n",
              "      <td>2.046775</td>\n",
              "      <td>2.052974</td>\n",
              "      <td>2.055694</td>\n",
              "      <td>2.068125</td>\n",
              "      <td>2.055584</td>\n",
              "      <td>2.071411</td>\n",
              "      <td>2.077928</td>\n",
              "      <td>4.094771</td>\n",
              "      <td>5.568247</td>\n",
              "      <td>1.412846</td>\n",
              "      <td>4.343948</td>\n",
              "      <td>0.641415</td>\n",
              "    </tr>\n",
              "    <tr>\n",
              "      <th>1210</th>\n",
              "      <td>2.076275</td>\n",
              "      <td>2.099613</td>\n",
              "      <td>2.148506</td>\n",
              "      <td>2.148835</td>\n",
              "      <td>2.164145</td>\n",
              "      <td>2.163762</td>\n",
              "      <td>2.152979</td>\n",
              "      <td>1.981348</td>\n",
              "      <td>3.111558</td>\n",
              "      <td>2.689644</td>\n",
              "      <td>1.567570</td>\n",
              "      <td>-0.611314</td>\n",
              "    </tr>\n",
              "    <tr>\n",
              "      <th>1211</th>\n",
              "      <td>2.168719</td>\n",
              "      <td>2.166657</td>\n",
              "      <td>2.131103</td>\n",
              "      <td>2.109436</td>\n",
              "      <td>2.082141</td>\n",
              "      <td>2.086292</td>\n",
              "      <td>2.103033</td>\n",
              "      <td>0.543959</td>\n",
              "      <td>1.363567</td>\n",
              "      <td>1.417234</td>\n",
              "      <td>0.226537</td>\n",
              "      <td>-0.889320</td>\n",
              "    </tr>\n",
              "    <tr>\n",
              "      <th>1212</th>\n",
              "      <td>2.091171</td>\n",
              "      <td>2.081394</td>\n",
              "      <td>2.045107</td>\n",
              "      <td>2.065626</td>\n",
              "      <td>2.047413</td>\n",
              "      <td>2.049818</td>\n",
              "      <td>2.039600</td>\n",
              "      <td>0.100860</td>\n",
              "      <td>0.812109</td>\n",
              "      <td>1.332317</td>\n",
              "      <td>0.106063</td>\n",
              "      <td>0.096750</td>\n",
              "    </tr>\n",
              "  </tbody>\n",
              "</table>\n",
              "<p>1213 rows × 12 columns</p>\n",
              "</div>"
            ],
            "text/plain": [
              "      Prev Close      Open      High  ...    Trades  Deliverable Volume  %Deliverble\n",
              "0      -1.337436 -1.357525 -1.392417  ... -2.146674           -1.777781    -4.127805\n",
              "1      -1.372194 -1.365395 -1.259580  ... -1.077769           -0.696517    -0.695283\n",
              "2      -1.232287 -1.244424 -1.265236  ... -1.107665           -0.547374    -0.534153\n",
              "3      -1.277559 -1.303306 -1.341806  ... -0.572002           -0.420304    -0.831449\n",
              "4      -1.436598 -1.452261 -1.441724  ...  0.596542           -0.433909    -0.537557\n",
              "...          ...       ...       ...  ...       ...                 ...          ...\n",
              "1208    1.879558  1.891922  1.988985  ...  0.895094            0.630148    -1.148035\n",
              "1209    2.046775  2.052974  2.055694  ...  1.412846            4.343948     0.641415\n",
              "1210    2.076275  2.099613  2.148506  ...  2.689644            1.567570    -0.611314\n",
              "1211    2.168719  2.166657  2.131103  ...  1.417234            0.226537    -0.889320\n",
              "1212    2.091171  2.081394  2.045107  ...  1.332317            0.106063     0.096750\n",
              "\n",
              "[1213 rows x 12 columns]"
            ]
          },
          "metadata": {
            "tags": []
          },
          "execution_count": 79
        }
      ]
    },
    {
      "cell_type": "code",
      "metadata": {
        "id": "TuZrPL4q_z-c",
        "colab_type": "code",
        "colab": {}
      },
      "source": [
        "InputList = ['Open', 'Low', 'High', 'Volume', 'Trades', 'Deliverable Volume', '%Deliverble']\n",
        "X = stockHistorySS.drop(['Close'], axis=1)\n",
        "y = stockHistorySS.Close"
      ],
      "execution_count": 0,
      "outputs": []
    },
    {
      "cell_type": "code",
      "metadata": {
        "id": "HnAUy88u_0Ca",
        "colab_type": "code",
        "colab": {}
      },
      "source": [
        "X1_train, X1_test, y1_train, y1_test = train_test_split(X, y, random_state=2)"
      ],
      "execution_count": 0,
      "outputs": []
    },
    {
      "cell_type": "code",
      "metadata": {
        "id": "8u7WZuCPAsF7",
        "colab_type": "code",
        "colab": {
          "base_uri": "https://localhost:8080/",
          "height": 66
        },
        "outputId": "0d0fc602-4671-4ae8-8df8-cc607dfc4cac"
      },
      "source": [
        "knr = KNeighborsRegressor()\n",
        "knr.fit(X1_train, y1_train)"
      ],
      "execution_count": 99,
      "outputs": [
        {
          "output_type": "execute_result",
          "data": {
            "text/plain": [
              "KNeighborsRegressor(algorithm='auto', leaf_size=30, metric='minkowski',\n",
              "                    metric_params=None, n_jobs=None, n_neighbors=5, p=2,\n",
              "                    weights='uniform')"
            ]
          },
          "metadata": {
            "tags": []
          },
          "execution_count": 99
        }
      ]
    },
    {
      "cell_type": "code",
      "metadata": {
        "id": "kVstQ2XwAsI7",
        "colab_type": "code",
        "colab": {}
      },
      "source": [
        "y1_pred = knr.predict(X1_test)"
      ],
      "execution_count": 0,
      "outputs": []
    },
    {
      "cell_type": "code",
      "metadata": {
        "id": "azH75wYFAsLs",
        "colab_type": "code",
        "colab": {
          "base_uri": "https://localhost:8080/",
          "height": 505
        },
        "outputId": "eeba71ff-6d3b-4cf8-d040-682b2f0158fa"
      },
      "source": [
        "df1 = pd.DataFrame(y1_test)\n",
        "df1['Pred'] = y1_pred\n",
        "df1['Error'] = df1['Close'] - df1['Pred']\n",
        "df1['Squared Error'] = df1['Error'] ** 2\n",
        "meanError = df1['Error'].mean()\n",
        "df1['RMS Error'] = (df1['Squared Error'] - meanError) ** 0.5\n",
        "\n",
        "print(df1)\n",
        "print(df)"
      ],
      "execution_count": 101,
      "outputs": [
        {
          "output_type": "stream",
          "text": [
            "              Close     Pred  Error  Squared Error  RMS Error\n",
            "Date                                                         \n",
            "2018-01-12  1760.95  1752.07   8.88        78.8544   8.835021\n",
            "2018-07-26  2023.40  2010.97  12.43       154.5049  12.397907\n",
            "2019-04-26  1977.40  1964.65  12.75       162.5625  12.718714\n",
            "2018-06-18  1823.55  1829.22  -5.67        32.1489   5.599294\n",
            "2016-08-10  1337.15  1336.92   0.23         0.0529        NaN\n",
            "...             ...      ...    ...            ...        ...\n",
            "2017-04-20  1517.10  1513.28   3.82        14.5924   3.714242\n",
            "2015-09-07  1155.05  1167.66 -12.61       159.0121  12.578366\n",
            "2015-01-28  1344.60  1349.61  -5.01        25.1001   4.929837\n",
            "2018-08-31  1935.95  1909.13  26.82       719.3124  26.805141\n",
            "2015-08-14  1299.95  1288.22  11.73       137.5929  11.695986\n",
            "\n",
            "[304 rows x 5 columns]\n",
            "              Close     Pred  Error  Squared Error  RMS Error\n",
            "Date                                                         \n",
            "2018-10-08  1667.70  1675.02  -7.32        53.5824   7.365804\n",
            "2017-10-23  1722.40  1733.18 -10.78       116.2084  10.811155\n",
            "2019-04-25  1955.15  1971.43 -16.28       265.0384  16.300646\n",
            "2015-04-24  1245.15  1251.93  -6.78        45.9684   6.829426\n",
            "2017-10-11  1750.75  1762.23 -11.48       131.7904  11.509260\n",
            "...             ...      ...    ...            ...        ...\n",
            "2016-11-04  1386.15  1393.62  -7.47        55.8009   7.514890\n",
            "2019-10-01  1995.65  1989.55   6.10        37.2100   6.154889\n",
            "2016-07-29  1374.50  1391.61 -17.11       292.7521  17.129646\n",
            "2018-08-30  1934.15  1944.33 -10.18       103.6324  10.212985\n",
            "2015-11-13  1178.75  1172.88   5.87        34.4569   5.927020\n",
            "\n",
            "[304 rows x 5 columns]\n"
          ],
          "name": "stdout"
        }
      ]
    },
    {
      "cell_type": "code",
      "metadata": {
        "id": "2oSicCcpI0Cm",
        "colab_type": "code",
        "colab": {}
      },
      "source": [
        ""
      ],
      "execution_count": 0,
      "outputs": []
    }
  ]
}