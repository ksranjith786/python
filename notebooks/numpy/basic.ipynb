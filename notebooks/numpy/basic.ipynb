{
 "cells": [
  {
   "cell_type": "code",
   "execution_count": 1,
   "metadata": {},
   "outputs": [
    {
     "name": "stdout",
     "output_type": "stream",
     "text": [
      "Array with Rank 1: \n",
      " [1 2 3]\n",
      "Array with Rank 2: \n",
      " [[1 2 3]\n",
      " [4 5 6]]\n",
      "\n",
      "Array created using passed tuple:\n",
      " [1 3 2]\n"
     ]
    }
   ],
   "source": [
    "# Python program for\n",
    "# Creation of Arrays\n",
    "import numpy as np\n",
    " \n",
    "# Creating a rank 1 Array\n",
    "arr = np.array([1, 2, 3])\n",
    "print(\"Array with Rank 1: \\n\",arr)\n",
    " \n",
    "# Creating a rank 2 Array\n",
    "arr = np.array([[1, 2, 3],\n",
    "                [4, 5, 6]])\n",
    "print(\"Array with Rank 2: \\n\", arr)\n",
    " \n",
    "# Creating an array from tuple\n",
    "arr = np.array((1, 3, 2))\n",
    "print(\"\\nArray created using \"\n",
    "      \"passed tuple:\\n\", arr)"
   ]
  },
  {
   "cell_type": "code",
   "execution_count": 10,
   "metadata": {},
   "outputs": [
    {
     "name": "stdout",
     "output_type": "stream",
     "text": [
      "[[-1.   2.   0.   4. ]\n",
      " [ 4.  -0.5  6.   0. ]\n",
      " [ 2.6  0.   7.   8. ]\n",
      " [ 3.  -7.   4.   2. ]]\n",
      "Array with first 2 rows and alternate columns(0 and 2):\n",
      " [[-1.  0.]\n",
      " [ 4.  6.]]\n"
     ]
    }
   ],
   "source": [
    "# Initial Array\n",
    "arr = np.array([[-1, 2, 0, 4],\n",
    "                [4, -0.5, 6, 0],\n",
    "                [2.6, 0, 7, 8],\n",
    "                [3, -7, 4, 2.0]])\n",
    "\n",
    "print (arr)\n",
    "\n",
    "# Printing a range of Array\n",
    "# with the use of slicing method\n",
    "sliced_arr = arr[:2, ::2]\n",
    "print (\"Array with first 2 rows and\"\n",
    "    \" alternate columns(0 and 2):\\n\", sliced_arr)\n"
   ]
  },
  {
   "cell_type": "code",
   "execution_count": 14,
   "metadata": {},
   "outputs": [
    {
     "name": "stdout",
     "output_type": "stream",
     "text": [
      "[[-1.   2.   0.   4. ]\n",
      " [ 4.  -0.5  6.   0. ]\n",
      " [ 2.6  0.   7.   8. ]\n",
      " [ 3.  -7.   4.   2. ]]\n",
      "Array is of type:  <class 'numpy.ndarray'>\n",
      "No. of dimensions:  2\n",
      "Shape of array:  (4, 4)\n",
      "Size of array:  16\n",
      "Array stores elements of type:  float64\n"
     ]
    }
   ],
   "source": [
    "print (arr)\n",
    "\n",
    "# Printing type of arr object \n",
    "print(\"Array is of type: \", type(arr)) \n",
    "  \n",
    "# Printing array dimensions (axes) \n",
    "print(\"No. of dimensions: \", arr.ndim) \n",
    "  \n",
    "# Printing shape of array \n",
    "print(\"Shape of array: \", arr.shape) \n",
    "  \n",
    "# Printing size (total number of elements) of array \n",
    "print(\"Size of array: \", arr.size) \n",
    "  \n",
    "# Printing type of elements in array \n",
    "print(\"Array stores elements of type: \", arr.dtype) "
   ]
  },
  {
   "cell_type": "code",
   "execution_count": 15,
   "metadata": {},
   "outputs": [
    {
     "ename": "SyntaxError",
     "evalue": "invalid syntax (<ipython-input-15-6fbcfbcc4e8b>, line 2)",
     "output_type": "error",
     "traceback": [
      "\u001b[0;36m  File \u001b[0;32m\"<ipython-input-15-6fbcfbcc4e8b>\"\u001b[0;36m, line \u001b[0;32m2\u001b[0m\n\u001b[0;31m    ----------\u001b[0m\n\u001b[0m              ^\u001b[0m\n\u001b[0;31mSyntaxError\u001b[0m\u001b[0;31m:\u001b[0m invalid syntax\n"
     ]
    }
   ],
   "source": [
    "Parameters\n",
    "----------\n",
    "(for the __new__ method; see Notes below)\n",
    "\n",
    "shape : tuple of ints\n",
    "    Shape of created array.\n",
    "dtype : data-type, optional\n",
    "    Any object that can be interpreted as a numpy data type.\n",
    "buffer : object exposing buffer interface, optional\n",
    "    Used to fill the array with data.\n",
    "offset : int, optional\n",
    "    Offset of array data in buffer.\n",
    "strides : tuple of ints, optional\n",
    "    Strides of data in memory.\n",
    "order : {'C', 'F'}, optional\n",
    "    Row-major (C-style) or column-major (Fortran-style) order.\n",
    "\n",
    "Attributes\n",
    "----------\n",
    "T : ndarray\n",
    "    Transpose of the array.\n",
    "data : buffer\n",
    "    The array's elements, in memory.\n",
    "dtype : dtype object\n",
    "    Describes the format of the elements in the array.\n",
    "flags : dict\n",
    "    Dictionary containing information related to memory use, e.g.,\n",
    "    'C_CONTIGUOUS', 'OWNDATA', 'WRITEABLE', etc.\n",
    "flat : numpy.flatiter object\n",
    "    Flattened version of the array as an iterator.  The iterator\n",
    "    allows assignments, e.g., ``x.flat = 3`` (See `ndarray.flat` for\n",
    "    assignment examples; TODO).\n",
    "imag : ndarray\n",
    "    Imaginary part of the array.\n",
    "real : ndarray\n",
    "    Real part of the array.\n",
    "size : int\n",
    "    Number of elements in the array.\n",
    "itemsize : int\n",
    "    The memory use of each array element in bytes.\n",
    "nbytes : int\n",
    "    The total number of bytes required to store the array data,\n",
    "    i.e., ``itemsize * size``.\n",
    "ndim : int\n",
    "    The array's number of dimensions.\n",
    "shape : tuple of ints\n",
    "    Shape of the array.\n",
    "strides : tuple of ints\n",
    "    The step-size required to move from one element to the next in\n",
    "    memory. For example, a contiguous ``(3, 4)`` array of type\n",
    "    ``int16`` in C-order has strides ``(8, 2)``.  This implies that\n",
    "    to move from element to element in memory requires jumps of 2 bytes.\n",
    "    To move from row-to-row, one needs to jump 8 bytes at a time\n",
    "    (``2 * 4``).\n",
    "ctypes : ctypes object\n",
    "    Class containing properties of the array needed for interaction\n",
    "    with ctypes.\n",
    "base : ndarray\n",
    "    If the array is a view into another array, that array is its `base`\n",
    "    (unless that array is also a view).  The `base` array is where the\n",
    "    array data is actually stored.\n",
    "\n",
    "See Also\n",
    "--------\n",
    "array : Construct an array.\n",
    "zeros : Create an array, each element of which is zero.\n",
    "empty : Create an array, but leave its allocated memory unchanged (i.e.,\n",
    "        it contains \"garbage\").\n",
    "dtype : Create a data-type.\n",
    "\n",
    "Notes\n",
    "-----\n",
    "There are two modes of creating an array using ``__new__``:\n",
    "\n",
    "1. If `buffer` is None, then only `shape`, `dtype`, and `order`\n",
    "   are used.\n",
    "2. If `buffer` is an object exposing the buffer interface, then\n",
    "   all keywords are interpreted.\n",
    "\n",
    "No ``__init__`` method is needed because the array is fully initialized\n",
    "after the ``__new__`` method."
   ]
  },
  {
   "cell_type": "code",
   "execution_count": 37,
   "metadata": {},
   "outputs": [
    {
     "name": "stdout",
     "output_type": "stream",
     "text": [
      "1D\n",
      "[0.15320539 0.64237949 0.41908005]\n",
      "2D\n",
      "[[0.40948932 0.80914366 0.44588447 0.75615811 0.82226989]\n",
      " [0.0135887  0.0606429  0.78208154 0.80740818 0.03031652]]\n",
      "3D\n",
      "[[[0.18395492]\n",
      "  [0.45192289]\n",
      "  [0.63005314]\n",
      "  [0.18986529]\n",
      "  [0.33979612]]\n",
      "\n",
      " [[0.6899706 ]\n",
      "  [0.10855048]\n",
      "  [0.63744078]\n",
      "  [0.64659479]\n",
      "  [0.27566748]]]\n",
      "5D\n",
      "[[[[[3.29388051e-01 3.35619424e-01 1.37185039e-01]\n",
      "    [2.56961518e-01 8.37041674e-01 3.99425781e-01]]\n",
      "\n",
      "   [[3.85127822e-01 4.51033715e-01 8.84006725e-01]\n",
      "    [6.17465033e-01 8.22639585e-01 6.87943335e-02]]]\n",
      "\n",
      "\n",
      "  [[[1.90951940e-01 4.98194441e-01 2.41679631e-01]\n",
      "    [6.65607692e-01 3.64336847e-01 4.86201857e-01]]\n",
      "\n",
      "   [[7.11223731e-01 8.05014177e-01 5.53319011e-01]\n",
      "    [7.45671135e-01 8.72339059e-01 2.23523143e-01]]]\n",
      "\n",
      "\n",
      "  [[[7.14989537e-01 1.16382577e-01 2.63556031e-01]\n",
      "    [9.97529267e-01 4.29179982e-01 4.57551863e-01]]\n",
      "\n",
      "   [[9.33045795e-02 3.11878470e-01 3.14667544e-01]\n",
      "    [3.95493335e-01 3.73307632e-01 5.50179687e-01]]]]\n",
      "\n",
      "\n",
      "\n",
      " [[[[8.28099294e-01 5.88434567e-01 8.01067524e-01]\n",
      "    [7.34779652e-01 8.77346737e-01 2.71992333e-01]]\n",
      "\n",
      "   [[7.56605025e-01 7.94812015e-01 7.16748399e-01]\n",
      "    [8.40599397e-01 7.71281602e-01 1.01052942e-01]]]\n",
      "\n",
      "\n",
      "  [[[5.10226917e-02 3.99593351e-01 6.98065977e-01]\n",
      "    [2.38639921e-01 2.46256833e-01 1.02910014e-01]]\n",
      "\n",
      "   [[3.07176898e-02 8.78397969e-01 7.35402629e-01]\n",
      "    [3.05153286e-01 7.17215146e-01 1.77529783e-01]]]\n",
      "\n",
      "\n",
      "  [[[9.20745397e-01 7.65595866e-01 2.34813667e-01]\n",
      "    [4.08782246e-01 8.87961105e-01 3.37093960e-01]]\n",
      "\n",
      "   [[5.52099476e-01 8.70055816e-01 4.34816246e-01]\n",
      "    [9.80873217e-01 3.94230366e-04 6.28916909e-01]]]]]\n"
     ]
    }
   ],
   "source": [
    "# Random\n",
    "import numpy as np\n",
    "\n",
    "print(\"1D\")\n",
    "arr1 = np.random.rand(3)\n",
    "print(arr1)\n",
    "\n",
    "print(\"2D\")\n",
    "arr2 = np.random.rand(2,5)\n",
    "print(arr2)\n",
    "\n",
    "print(\"3D\")\n",
    "arr3 = np.random.rand(2,5,1)\n",
    "print(arr3)\n",
    "\n",
    "print(\"5D\")\n",
    "arr5 = np.random.rand(2,3,2,2,3)\n",
    "print(arr5)\n"
   ]
  },
  {
   "cell_type": "code",
   "execution_count": 39,
   "metadata": {},
   "outputs": [
    {
     "name": "stdout",
     "output_type": "stream",
     "text": [
      "[0 1 2 3 4 5 6 7 8]\n",
      "<class 'numpy.ndarray'>\n"
     ]
    }
   ],
   "source": [
    "x = np.arange(0, 9) \n",
    "print (x)\n",
    "print (type(x))"
   ]
  },
  {
   "cell_type": "code",
   "execution_count": 41,
   "metadata": {},
   "outputs": [
    {
     "name": "stdout",
     "output_type": "stream",
     "text": [
      "[[0. 1. 2. 3. 4. 5. 6. 7. 8.]\n",
      " [1. 1. 1. 1. 1. 1. 1. 1. 1.]]\n"
     ]
    }
   ],
   "source": [
    "A = np.array([x, np.ones(9)]) \n",
    "print(A)"
   ]
  }
 ],
 "metadata": {
  "kernelspec": {
   "display_name": "Python 3",
   "language": "python",
   "name": "python3"
  },
  "language_info": {
   "codemirror_mode": {
    "name": "ipython",
    "version": 3
   },
   "file_extension": ".py",
   "mimetype": "text/x-python",
   "name": "python",
   "nbconvert_exporter": "python",
   "pygments_lexer": "ipython3",
   "version": "3.7.3"
  }
 },
 "nbformat": 4,
 "nbformat_minor": 2
}
