{
 "cells": [
  {
   "cell_type": "code",
   "execution_count": 7,
   "metadata": {},
   "outputs": [],
   "source": [
    "d = dict() # or d = {}\n",
    "\n",
    "d['xyz'] = 123\n",
    "d['abc'] = 345"
   ]
  },
  {
   "cell_type": "code",
   "execution_count": 9,
   "metadata": {},
   "outputs": [
    {
     "name": "stdout",
     "output_type": "stream",
     "text": [
      "{'xyz': 123, 'abc': 345}\n",
      "dict_keys(['xyz', 'abc'])\n",
      "dict_values([123, 345])\n"
     ]
    }
   ],
   "source": [
    "# print the whole dictionary \n",
    "print (d )\n",
    "\n",
    "# print only the keys \n",
    "print (d.keys() )\n",
    "\n",
    "# print only values \n",
    "print (d.values() )"
   ]
  },
  {
   "cell_type": "code",
   "execution_count": 10,
   "metadata": {},
   "outputs": [
    {
     "name": "stdout",
     "output_type": "stream",
     "text": [
      "xyz 123\n",
      "abc 345\n"
     ]
    }
   ],
   "source": [
    "for key, value in d.items(): \n",
    "    print(key, value)"
   ]
  }
 ],
 "metadata": {
  "kernelspec": {
   "display_name": "Python 3",
   "language": "python",
   "name": "python3"
  },
  "language_info": {
   "codemirror_mode": {
    "name": "ipython",
    "version": 3
   },
   "file_extension": ".py",
   "mimetype": "text/x-python",
   "name": "python",
   "nbconvert_exporter": "python",
   "pygments_lexer": "ipython3",
   "version": "3.7.4"
  }
 },
 "nbformat": 4,
 "nbformat_minor": 2
}
